{
 "cells": [
  {
   "cell_type": "markdown",
   "source": [
    "## Initial setup"
   ],
   "metadata": {
    "collapsed": false
   },
   "id": "aef32e57db851bb8"
  },
  {
   "cell_type": "code",
   "outputs": [],
   "source": [
    "import pandas as pd\n",
    "import numpy as np\n",
    "\n",
    "hb = pd.read_csv(\"../data/hotel_bookings.csv\")\n",
    "hb.head()"
   ],
   "metadata": {
    "collapsed": false
   },
   "id": "c43d8765d0561885",
   "execution_count": null
  },
  {
   "cell_type": "markdown",
   "source": [
    "### Look at the raw dataset"
   ],
   "metadata": {
    "collapsed": false
   },
   "id": "c750e94e6086eeb5"
  },
  {
   "cell_type": "code",
   "outputs": [],
   "source": [
    "hb.describe()"
   ],
   "metadata": {
    "collapsed": false
   },
   "id": "9150a8175919bc19",
   "execution_count": null
  },
  {
   "cell_type": "code",
   "outputs": [],
   "source": [
    "hb.info()"
   ],
   "metadata": {
    "collapsed": false
   },
   "id": "78492eff0c2262f2",
   "execution_count": null
  },
  {
   "cell_type": "markdown",
   "source": [
    "# Data Cleaning\n",
    "### Missing values"
   ],
   "metadata": {
    "collapsed": false
   },
   "id": "adeeb7c1f4d6ff3"
  },
  {
   "cell_type": "code",
   "outputs": [],
   "source": [
    "def info_na():\n",
    "    missing_values_count = hb.isnull().sum()\n",
    "    if missing_values_count.sum() == 0:\n",
    "        print(\"no missing data\")\n",
    "\n",
    "    else:\n",
    "        missing_data = pd.DataFrame({\n",
    "            'missing values': missing_values_count[missing_values_count > 0],\n",
    "            'total entries': len(hb),\n",
    "        })\n",
    "        missing_data['percentage'] = round((missing_data['missing values'] / missing_data['total entries']) * 100, 4)\n",
    "    \n",
    "        print(missing_data, '\\n')\n",
    "        \n",
    "    full_data_row_count = hb.dropna(axis=0)\n",
    "    print(f\"full data row count {full_data_row_count.shape[0]} / {hb.shape[0]}\") \n",
    "        \n",
    "    full_data_column_count = hb.dropna(axis=1)\n",
    "    print(f\"full data column count {full_data_column_count.shape[1]} / {hb.shape[1]}\")\n",
    "    \n"
   ],
   "metadata": {
    "collapsed": false
   },
   "id": "93000c1127042234",
   "execution_count": null
  },
  {
   "cell_type": "code",
   "outputs": [],
   "source": [
    "info_na()"
   ],
   "metadata": {
    "collapsed": false
   },
   "id": "5148d1355dec995d",
   "execution_count": null
  },
  {
   "cell_type": "code",
   "outputs": [],
   "source": [
    "# for children column we can assume that if there is no data, there were no children\n",
    "hb['children'] = hb['children'].fillna(0)\n",
    "\n",
    "# safer would be to set the values as unknown\n",
    "hb['country'] = hb['country'].fillna('Unknown')\n",
    "\n",
    "# this column contains id of an agency and will most likely not be needed for future\n",
    "# analysis, but can be worth keeping for now. fill it with 0 as \"unknown\" for now\n",
    "hb['agent'] = hb['agent'].fillna(0)\n",
    "\n",
    "# delete company column because 94% data is missing\n",
    "hb.drop(labels='company', axis=1, inplace=True)"
   ],
   "metadata": {
    "collapsed": false
   },
   "id": "ff76e0845009cc4a",
   "execution_count": null
  },
  {
   "cell_type": "code",
   "outputs": [],
   "source": [
    "info_na()"
   ],
   "metadata": {
    "collapsed": false
   },
   "id": "4796266e71a357ab",
   "execution_count": null
  },
  {
   "cell_type": "code",
   "outputs": [],
   "source": [
    "hb.describe()"
   ],
   "metadata": {
    "collapsed": false
   },
   "id": "b0dd52062c30c8f1",
   "execution_count": null
  },
  {
   "cell_type": "markdown",
   "source": [
    "## Data Type Correction"
   ],
   "metadata": {
    "collapsed": false
   },
   "id": "ca272d4906605e"
  },
  {
   "cell_type": "code",
   "outputs": [],
   "source": [
    "hb.dtypes"
   ],
   "metadata": {
    "collapsed": false
   },
   "id": "3f13a08f58c93b5b",
   "execution_count": null
  },
  {
   "cell_type": "code",
   "outputs": [],
   "source": [
    "# convert arrival date year, month and day of month into a datetime\n",
    "hb = hb.rename(columns={\n",
    "    'arrival_date_year': 'year',\n",
    "    'arrival_date_month': 'month',\n",
    "    'arrival_date_day_of_month': 'day'\n",
    "})\n",
    "# months are written verbally, convert January to 1, February to 2 etc.\n",
    "hb['month'] = pd.to_datetime(hb['month'], format='%B').dt.month\n",
    "# aggregate all values into one column representing arrival date\n",
    "hb['arrival_date'] = pd.to_datetime(hb[['year', 'month', 'day']])\n",
    "# drop year month day and week, they are deprecated now\n",
    "hb.drop(columns={'year', 'month', 'day', 'arrival_date_week_number'}, inplace=True)\n",
    "\n",
    "dtype_mapping = {\n",
    "    'hotel' : 'category',\n",
    "    'is_canceled' : 'bool',\n",
    "    'lead_time' : 'int',\n",
    "    'adults': 'int',\n",
    "    'children': 'int',\n",
    "    'babies': 'int',\n",
    "    'meal': 'category',\n",
    "    'country': 'category',\n",
    "    'market_segment': 'category',\n",
    "    'distribution_channel': 'category',\n",
    "    'is_repeated_guest': 'bool',\n",
    "    'previous_cancellations': 'int',\n",
    "    'previous_bookings_not_canceled': 'int',\n",
    "    'reserved_room_type': 'category',\n",
    "    'assigned_room_type': 'category',\n",
    "    'booking_changes': 'int',\n",
    "    'deposit_type': 'category',\n",
    "    'agent': 'int',\n",
    "    'days_in_waiting_list': 'int',\n",
    "    'customer_type': 'category',\n",
    "    'adr': 'float',\n",
    "    'required_car_parking_spaces': 'int',\n",
    "    'total_of_special_requests': 'int',\n",
    "    'reservation_status': 'category',\n",
    "    'reservation_status_date': 'datetime64[ns]'\n",
    "}\n",
    "\n",
    "# correct datatype if it is different\n",
    "for column, dtype in dtype_mapping.items():\n",
    "    if hb[column].dtype == dtype:\n",
    "        continue\n",
    "    if dtype == 'datetime64[ns]':\n",
    "        hb[column] = pd.to_datetime(hb[column])\n",
    "    else:\n",
    "        hb[column] = hb[column].astype(dtype)\n"
   ],
   "metadata": {
    "collapsed": false
   },
   "id": "9db3c19a48f64582",
   "execution_count": null
  },
  {
   "cell_type": "code",
   "outputs": [],
   "source": [
    "hb.dtypes "
   ],
   "metadata": {
    "collapsed": false
   },
   "id": "6ed2ee49b16cc9",
   "execution_count": null
  },
  {
   "cell_type": "code",
   "outputs": [],
   "source": [
    "# check if all values were converted\n",
    "info_na()"
   ],
   "metadata": {
    "collapsed": false
   },
   "id": "5f8ac2d60cf2a17",
   "execution_count": null
  }
 ],
 "metadata": {
  "kernelspec": {
   "display_name": "Python 3",
   "language": "python",
   "name": "python3"
  },
  "language_info": {
   "codemirror_mode": {
    "name": "ipython",
    "version": 2
   },
   "file_extension": ".py",
   "mimetype": "text/x-python",
   "name": "python",
   "nbconvert_exporter": "python",
   "pygments_lexer": "ipython2",
   "version": "2.7.6"
  }
 },
 "nbformat": 4,
 "nbformat_minor": 5
}

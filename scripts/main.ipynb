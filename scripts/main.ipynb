{
 "cells": [
  {
   "cell_type": "markdown",
   "source": [
    "## Initial setup"
   ],
   "metadata": {
    "collapsed": false
   },
   "id": "aef32e57db851bb8"
  },
  {
   "cell_type": "code",
   "outputs": [],
   "source": [
    "import pandas as pd\n",
    "from load_dataset import download_from_kaggle, load_from_database\n",
    "\n",
    "# df = download_from_kaggle()\n",
    "df = load_from_database(\"HotelBooking\")\n",
    "df.head()"
   ],
   "metadata": {
    "collapsed": false
   },
   "id": "c43d8765d0561885",
   "execution_count": null
  },
  {
   "cell_type": "markdown",
   "source": [
    "### Look at the raw dataset"
   ],
   "metadata": {
    "collapsed": false
   },
   "id": "c750e94e6086eeb5"
  },
  {
   "cell_type": "code",
   "outputs": [],
   "source": [
    "df.describe()"
   ],
   "metadata": {
    "collapsed": false
   },
   "id": "9150a8175919bc19",
   "execution_count": null
  },
  {
   "cell_type": "code",
   "outputs": [],
   "source": [
    "df.info()"
   ],
   "metadata": {
    "collapsed": false
   },
   "id": "78492eff0c2262f2",
   "execution_count": null
  },
  {
   "cell_type": "markdown",
   "source": [
    "# Data Cleaning\n",
    "### Missing values"
   ],
   "metadata": {
    "collapsed": false
   },
   "id": "adeeb7c1f4d6ff3"
  },
  {
   "cell_type": "code",
   "outputs": [],
   "source": [
    "def info_na():\n",
    "    missing_values_count = df.isnull().sum()\n",
    "    if missing_values_count.sum() == 0:\n",
    "        print(\"no missing data\")\n",
    "\n",
    "    else:\n",
    "        missing_data = pd.DataFrame({\n",
    "            'missing values': missing_values_count[missing_values_count > 0],\n",
    "            'total entries': len(df),\n",
    "        })\n",
    "        missing_data['percentage'] = round((missing_data['missing values'] / missing_data['total entries']) * 100, 4)\n",
    "    \n",
    "        print(missing_data, '\\n')\n",
    "        \n",
    "    full_data_row_count = df.dropna(axis=0)\n",
    "    print(f\"full data row count {full_data_row_count.shape[0]} / {df.shape[0]}\") \n",
    "        \n",
    "    full_data_column_count = df.dropna(axis=1)\n",
    "    print(f\"full data column count {full_data_column_count.shape[1]} / {df.shape[1]}\")\n",
    "    \n"
   ],
   "metadata": {
    "collapsed": false
   },
   "id": "93000c1127042234",
   "execution_count": null
  },
  {
   "cell_type": "code",
   "outputs": [],
   "source": [
    "info_na()"
   ],
   "metadata": {
    "collapsed": false
   },
   "id": "5148d1355dec995d",
   "execution_count": null
  },
  {
   "cell_type": "code",
   "outputs": [],
   "source": [
    "# for children column we can assume that if there is no data, there were no children\n",
    "df['children'] = df['children'].fillna(0)\n",
    "\n",
    "# safer would be to set the values as unknown\n",
    "df['country'] = df['country'].fillna('Unknown')\n",
    "\n",
    "# this column contains id of an agency and will most likely not be needed for future\n",
    "# analysis, but can be worth keeping for now. fill it with 0 as \"unknown\" for now\n",
    "df['agent'] = df['agent'].fillna(0)\n",
    "\n",
    "# delete company column because 94% data is missing\n",
    "df.drop(labels='company', axis=1, inplace=True)"
   ],
   "metadata": {
    "collapsed": false
   },
   "id": "ff76e0845009cc4a",
   "execution_count": null
  },
  {
   "cell_type": "code",
   "outputs": [],
   "source": [
    "info_na()"
   ],
   "metadata": {
    "collapsed": false
   },
   "id": "4796266e71a357ab",
   "execution_count": null
  },
  {
   "cell_type": "code",
   "outputs": [],
   "source": [
    "df.describe()"
   ],
   "metadata": {
    "collapsed": false
   },
   "id": "b0dd52062c30c8f1",
   "execution_count": null
  },
  {
   "cell_type": "markdown",
   "source": [
    "## Duplicates"
   ],
   "metadata": {
    "collapsed": false
   },
   "id": "2120eafb102e1022"
  },
  {
   "cell_type": "code",
   "outputs": [],
   "source": [
    "def info_duplicates():\n",
    "    duplicates = df[df.duplicated()]\n",
    "    print(len(duplicates), ' duplicated rows')\n",
    "    return duplicates"
   ],
   "metadata": {
    "collapsed": false
   },
   "id": "55cc06aea6698075",
   "execution_count": null
  },
  {
   "cell_type": "code",
   "outputs": [],
   "source": [
    "info_duplicates()"
   ],
   "metadata": {
    "collapsed": false
   },
   "id": "6212ed125435b638",
   "execution_count": null
  },
  {
   "cell_type": "code",
   "outputs": [],
   "source": [
    "# drop duplicates, keeping the first occurrence\n",
    "df.drop_duplicates(inplace=True)\n",
    "info_duplicates()"
   ],
   "metadata": {
    "collapsed": false
   },
   "id": "b67d577d673f168f",
   "execution_count": null
  },
  {
   "cell_type": "markdown",
   "source": [
    "## Data Type Correction"
   ],
   "metadata": {
    "collapsed": false
   },
   "id": "ca272d4906605e"
  },
  {
   "cell_type": "code",
   "outputs": [],
   "source": [
    "df.dtypes"
   ],
   "metadata": {
    "collapsed": false
   },
   "id": "3f13a08f58c93b5b",
   "execution_count": null
  },
  {
   "cell_type": "code",
   "outputs": [],
   "source": [
    "# convert arrival date year, month and day of month into a datetime\n",
    "df = df.rename(columns={\n",
    "    'arrival_date_year': 'year',\n",
    "    'arrival_date_month': 'month',\n",
    "    'arrival_date_day_of_month': 'day'\n",
    "})\n",
    "# months are written verbally, convert January to 1, February to 2 etc.\n",
    "df['month'] = pd.to_datetime(df['month'], format='%B').dt.month\n",
    "# aggregate all values into one column representing arrival date\n",
    "df['arrival_date'] = pd.to_datetime(df[['year', 'month', 'day']])\n",
    "# drop year month day and week, they are deprecated now\n",
    "df.drop(columns={'year', 'month', 'day', 'arrival_date_week_number'}, inplace=True)\n",
    "\n",
    "dtype_mapping = {\n",
    "    'hotel' : 'category',\n",
    "    'is_canceled' : 'bool',\n",
    "    'lead_time' : 'int',\n",
    "    'adults': 'int',\n",
    "    'children': 'int',\n",
    "    'babies': 'int',\n",
    "    'meal': 'category',\n",
    "    'country': 'category',\n",
    "    'market_segment': 'category',\n",
    "    'distribution_channel': 'category',\n",
    "    'is_repeated_guest': 'bool',\n",
    "    'previous_cancellations': 'int',\n",
    "    'previous_bookings_not_canceled': 'int',\n",
    "    'reserved_room_type': 'category',\n",
    "    'assigned_room_type': 'category',\n",
    "    'booking_changes': 'int',\n",
    "    'deposit_type': 'category',\n",
    "    'agent': 'int',\n",
    "    'days_in_waiting_list': 'int',\n",
    "    'customer_type': 'category',\n",
    "    'adr': 'float',\n",
    "    'required_car_parking_spaces': 'int',\n",
    "    'total_of_special_requests': 'int',\n",
    "    'reservation_status': 'category',\n",
    "    'reservation_status_date': 'datetime64[ns]'\n",
    "}\n",
    "\n",
    "# correct datatype if it is different\n",
    "for column, dtype in dtype_mapping.items():\n",
    "    if df[column].dtype == dtype:\n",
    "        continue\n",
    "    if dtype == 'datetime64[ns]':\n",
    "        df[column] = pd.to_datetime(df[column])\n",
    "    else:\n",
    "        df[column] = df[column].astype(dtype)\n"
   ],
   "metadata": {
    "collapsed": false
   },
   "id": "9db3c19a48f64582",
   "execution_count": null
  },
  {
   "cell_type": "code",
   "outputs": [],
   "source": [
    "df.dtypes "
   ],
   "metadata": {
    "collapsed": false
   },
   "id": "6ed2ee49b16cc9",
   "execution_count": null
  },
  {
   "cell_type": "code",
   "outputs": [],
   "source": [
    "# check if all values were converted\n",
    "info_na()"
   ],
   "metadata": {
    "collapsed": false
   },
   "id": "5f8ac2d60cf2a17",
   "execution_count": null
  },
  {
   "cell_type": "markdown",
   "source": [
    "## Outliers"
   ],
   "metadata": {
    "collapsed": false
   },
   "id": "97e7dfd8f5cdbcc5"
  },
  {
   "cell_type": "code",
   "outputs": [],
   "source": [
    "def delete_outliers_and_normalise(column_name):\n",
    "    fix_outliers(column_name)\n",
    "    normalize(column_name)\n",
    "\n",
    "def delete_outliers_and_standardize(column_name):\n",
    "    fix_outliers(column_name)\n",
    "    standardize(column_name)\n",
    "\n",
    "def standardize(column_name):\n",
    "    mean = df[column_name].mean()\n",
    "    std = df[column_name].std()\n",
    "    \n",
    "    df[column_name] = (df[column_name] - mean) / std\n",
    "\n",
    "def normalize(column_name):\n",
    "    min_val = df[column_name].min()\n",
    "    max_val = df[column_name].max()\n",
    "\n",
    "    if min_val != max_val:\n",
    "        df[column_name] = (df[column_name] - min_val) / (max_val - min_val)\n",
    "\n",
    "def fix_outliers(column_name, method=\"iqr\"):\n",
    "\n",
    "    if method.lower() == \"iqr\":\n",
    "        Q1 = df[column_name].quantile(0.25)\n",
    "        Q3 = df[column_name].quantile(0.75)\n",
    "        IQR = Q3 - Q1\n",
    "    \n",
    "        lower_bound = Q1 - 1.5 * IQR\n",
    "        upper_bound = Q3 + 1.5 * IQR\n",
    "    else:\n",
    "        mean = df[column_name].mean()\n",
    "        std_dev = df[column_name].std()\n",
    "        std_dev_multiplier = 4\n",
    "        lower_bound = mean - std_dev_multiplier * std_dev\n",
    "        upper_bound = mean + std_dev_multiplier * std_dev\n",
    "    \n",
    "    df.loc[(df[column_name] < lower_bound), column_name] = lower_bound.astype(df[column_name].dtype)\n",
    "    df.loc[(df[column_name] > upper_bound), column_name] = upper_bound.astype(df[column_name].dtype)"
   ],
   "metadata": {
    "collapsed": false
   },
   "id": "7b1dabc99d408e36",
   "execution_count": null
  },
  {
   "cell_type": "code",
   "outputs": [],
   "source": [
    "df.describe()"
   ],
   "metadata": {
    "collapsed": false
   },
   "id": "9bdb1deec1ef5b21",
   "execution_count": null
  },
  {
   "cell_type": "code",
   "outputs": [],
   "source": [
    "fix_outliers('lead_time', method='std')\n",
    "fix_outliers('stays_in_weekend_nights', method='iqr')\n",
    "fix_outliers('stays_in_week_nights', method='iqr')\n",
    "fix_outliers('adults', method='std')\n",
    "fix_outliers('children', method='std')\n",
    "fix_outliers('previous_cancellations', method='std')\n",
    "fix_outliers('previous_bookings_not_canceled', method='std')\n",
    "fix_outliers('booking_changes', method='std')\n",
    "fix_outliers('days_in_waiting_list', method='std')\n",
    "fix_outliers('required_car_parking_spaces', method='std')\n",
    "fix_outliers('total_of_special_requests', method='std')\n",
    "\n",
    "normalize_columns = [ \n",
    "    'lead_time', 'stays_in_weekend_nights', 'stays_in_week_nights',\n",
    "    'adults', 'children', 'babies', 'previous_cancellations',\n",
    "    'previous_bookings_not_canceled', 'booking_changes', 'days_in_waiting_list',\n",
    "    'required_car_parking_spaces', 'total_of_special_requests'\n",
    "]\n",
    "standardize_columns = ['adr']\n",
    "\n",
    "for col in normalize_columns:\n",
    "    normalize(col)\n",
    "\n",
    "for col in standardize_columns:\n",
    "    standardize(col)"
   ],
   "metadata": {
    "collapsed": false
   },
   "id": "6d90e54d6a23a7c4",
   "execution_count": null
  },
  {
   "cell_type": "code",
   "outputs": [],
   "source": [
    "df.describe()"
   ],
   "metadata": {
    "collapsed": false
   },
   "id": "6a81501261d808f8",
   "execution_count": null
  }
 ],
 "metadata": {
  "kernelspec": {
   "display_name": "Python 3",
   "language": "python",
   "name": "python3"
  },
  "language_info": {
   "codemirror_mode": {
    "name": "ipython",
    "version": 2
   },
   "file_extension": ".py",
   "mimetype": "text/x-python",
   "name": "python",
   "nbconvert_exporter": "python",
   "pygments_lexer": "ipython2",
   "version": "2.7.6"
  }
 },
 "nbformat": 4,
 "nbformat_minor": 5
}
